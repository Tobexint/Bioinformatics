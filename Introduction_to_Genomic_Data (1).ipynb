{
 "cells": [
  {
   "cell_type": "markdown",
   "id": "2b7faaa9",
   "metadata": {
    "id": "2b7faaa9"
   },
   "source": [
    "<img src=\"materials/images/introduction-to-genomic-data-cover.png\"/>"
   ]
  },
  {
   "cell_type": "markdown",
   "id": "369f5a20",
   "metadata": {
    "id": "369f5a20"
   },
   "source": [
    "# Introduction to Genomics"
   ]
  },
  {
   "cell_type": "markdown",
   "id": "42c9fc5f",
   "metadata": {
    "id": "42c9fc5f"
   },
   "source": [
    "Genomics is the branch of molecular biology concerned with the structure, function, evolution, and mapping of genomes.\n",
    "\n",
    "In this module, you will be learning about how to process and annotate **Variant Call Format (VCF)** file using Amazon Athena. The Variant Call Format specifies the format of a text file used in bioinformatics for storing gene sequence variations.\n",
    "\n",
    "The format has been developed with the advent of large-scale genotyping and DNA sequencing projects, such as the ***1000 Genomes Project***."
   ]
  },
  {
   "cell_type": "markdown",
   "id": "b3-PS1S-fdRS",
   "metadata": {
    "id": "b3-PS1S-fdRS"
   },
   "source": [
    "`🕒 This module should take about 30 minutes to complete.`\n",
    "\n",
    "`✍️ This notebook is written using Python.`"
   ]
  },
  {
   "cell_type": "markdown",
   "id": "QtKAV5AGYr5r",
   "metadata": {
    "id": "QtKAV5AGYr5r"
   },
   "source": [
    "<div class=\"alert alert-block alert-info\">\n",
    "<h3>⌨️ Keyboard shortcut</h3>\n",
    "\n",
    "These common shortcut could save your time going through this notebook:\n",
    "- Run the current cell: **`Enter + Shift`**.\n",
    "- Add a cell above the current cell: Press **`A`**.\n",
    "- Add a cell below the current cell: Press **`B`**.\n",
    "- Change a code cell to markdown cell: Select the cell, and then press **`M`**.\n",
    "- Delete a cell: Press **`D`** twice.\n",
    "\n",
    "Need more help with keyboard shortcut? Press **`H`** to look it up.\n",
    "</div>"
   ]
  },
  {
   "cell_type": "markdown",
   "id": "NQjI63DVgFU4",
   "metadata": {
    "id": "NQjI63DVgFU4"
   },
   "source": [
    "\n",
    "\n",
    "---\n"
   ]
  },
  {
   "cell_type": "code",
   "execution_count": 1,
   "id": "7162b246",
   "metadata": {
    "id": "7162b246"
   },
   "outputs": [],
   "source": [
    "# Tables you can query\n",
    "# ['default.g1000vcf_csv_int', 'default.g1000vcf_csv', 'default.g1000vcf_parquet', 'default.g1000vcf_partitioned']\n",
    "# COSMIC68 Annotation Dataset ['1000_genomes.hg19_cosmic68_int']\n",
    "# UCSC RefGene Annotation Dataset ['1000_genomes.hg19_ucsc_refgene_int']"
   ]
  },
  {
   "cell_type": "markdown",
   "id": "fbf6ab1f",
   "metadata": {
    "id": "fbf6ab1f"
   },
   "source": [
    "---"
   ]
  },
  {
   "cell_type": "markdown",
   "id": "a19b57dd",
   "metadata": {
    "id": "a19b57dd"
   },
   "source": [
    "# Initial Setup"
   ]
  },
  {
   "cell_type": "markdown",
   "id": "6a4285bd",
   "metadata": {
    "id": "6a4285bd"
   },
   "source": [
    "We'll use the PyAthena library to get access to a database stored in AWS S3. You can read more about PyAthena here:\n",
    "\n",
    "• https://pypi.org/project/pyathena/\n",
    "\n",
    "• https://aws.amazon.com/athena/?whats-new-cards.sort-by=item.additionalFields.postDateTime&whats-new-cards.sort-order=desc"
   ]
  },
  {
   "cell_type": "code",
   "execution_count": 2,
   "id": "bbf47a77",
   "metadata": {
    "id": "bbf47a77"
   },
   "outputs": [
    {
     "name": "stderr",
     "output_type": "stream",
     "text": [
      "/tmp/ipykernel_101/317448135.py:3: DeprecationWarning: \n",
      "Pyarrow will become a required dependency of pandas in the next major release of pandas (pandas 3.0),\n",
      "(to allow more performant data types, such as the Arrow string type, and better interoperability with other libraries)\n",
      "but was not found to be installed on your system.\n",
      "If this would cause problems for you,\n",
      "please provide us feedback at https://github.com/pandas-dev/pandas/issues/54466\n",
      "        \n",
      "  import pandas as pd\n"
     ]
    }
   ],
   "source": [
    "import sys\n",
    "import pyathena\n",
    "import pandas as pd\n",
    "\n",
    "from IPython import display\n",
    "\n",
    "conn = pyathena.connect(s3_staging_dir=\"s3://athena-output-351869726285/\", region_name='us-east-1', encryption_option='SSE_S3')"
   ]
  },
  {
   "cell_type": "markdown",
   "id": "7cd1ab4f",
   "metadata": {
    "id": "7cd1ab4f"
   },
   "source": [
    "---"
   ]
  },
  {
   "cell_type": "markdown",
   "id": "ba9e982b",
   "metadata": {
    "id": "ba9e982b"
   },
   "source": [
    "# Query the 1000 Genomes Project Dataset"
   ]
  },
  {
   "cell_type": "markdown",
   "id": "ccb28591",
   "metadata": {
    "id": "ccb28591"
   },
   "source": [
    "It's usually helpful to picture the data before performing any analysis, so we are going to import the database as the first step, and then view a few random rows."
   ]
  },
  {
   "cell_type": "markdown",
   "id": "0334839e",
   "metadata": {
    "id": "0334839e"
   },
   "source": [
    "<div class=\"alert alert-block alert-info\">\n",
    "<b>Tip:</b> If you are new to Jupyter Notebook, try run the code cell below using keyboard shortcut: \"Shift\" + \"Enter\". You could look up more keyboard shortcuts by pressing \"H\".\n",
    "</div>"
   ]
  },
  {
   "cell_type": "code",
   "execution_count": 3,
   "id": "e73bd98e",
   "metadata": {
    "id": "e73bd98e"
   },
   "outputs": [
    {
     "name": "stderr",
     "output_type": "stream",
     "text": [
      "/tmp/ipykernel_101/653230635.py:2: UserWarning: pandas only supports SQLAlchemy connectable (engine/connection) or database string URI or sqlite3 DBAPI2 connection. Other DBAPI2 objects are not tested. Please consider using SQLAlchemy.\n",
      "  pd.read_sql('SELECT * FROM default.g1000vcf_csv_int LIMIT 10', conn).head(10)\n"
     ]
    },
    {
     "data": {
      "text/html": [
       "<div>\n",
       "<style scoped>\n",
       "    .dataframe tbody tr th:only-of-type {\n",
       "        vertical-align: middle;\n",
       "    }\n",
       "\n",
       "    .dataframe tbody tr th {\n",
       "        vertical-align: top;\n",
       "    }\n",
       "\n",
       "    .dataframe thead th {\n",
       "        text-align: right;\n",
       "    }\n",
       "</style>\n",
       "<table border=\"1\" class=\"dataframe\">\n",
       "  <thead>\n",
       "    <tr style=\"text-align: right;\">\n",
       "      <th></th>\n",
       "      <th>chrm</th>\n",
       "      <th>start_position</th>\n",
       "      <th>end_position</th>\n",
       "      <th>reference_bases</th>\n",
       "      <th>alternate_bases</th>\n",
       "      <th>rsid</th>\n",
       "      <th>qual</th>\n",
       "      <th>filter</th>\n",
       "      <th>info</th>\n",
       "      <th>chromosome</th>\n",
       "    </tr>\n",
       "  </thead>\n",
       "  <tbody>\n",
       "    <tr>\n",
       "      <th>0</th>\n",
       "      <td>1</td>\n",
       "      <td>33216544</td>\n",
       "      <td>33216545</td>\n",
       "      <td>C</td>\n",
       "      <td>T</td>\n",
       "      <td>rs530031665</td>\n",
       "      <td>100</td>\n",
       "      <td>PASS</td>\n",
       "      <td>AC=2;AF=0.000399361;AN=5008;NS=2504;DP=16121;E...</td>\n",
       "      <td>1</td>\n",
       "    </tr>\n",
       "    <tr>\n",
       "      <th>1</th>\n",
       "      <td>1</td>\n",
       "      <td>33216657</td>\n",
       "      <td>33216658</td>\n",
       "      <td>C</td>\n",
       "      <td>T</td>\n",
       "      <td>rs565542327</td>\n",
       "      <td>100</td>\n",
       "      <td>PASS</td>\n",
       "      <td>AC=1;AF=0.000199681;AN=5008;NS=2504;DP=18933;E...</td>\n",
       "      <td>1</td>\n",
       "    </tr>\n",
       "    <tr>\n",
       "      <th>2</th>\n",
       "      <td>1</td>\n",
       "      <td>33233956</td>\n",
       "      <td>33233957</td>\n",
       "      <td>C</td>\n",
       "      <td>T</td>\n",
       "      <td>rs534423375</td>\n",
       "      <td>100</td>\n",
       "      <td>PASS</td>\n",
       "      <td>AC=1;AF=0.000199681;AN=5008;NS=2504;DP=18999;E...</td>\n",
       "      <td>1</td>\n",
       "    </tr>\n",
       "    <tr>\n",
       "      <th>3</th>\n",
       "      <td>1</td>\n",
       "      <td>33254320</td>\n",
       "      <td>33254321</td>\n",
       "      <td>C</td>\n",
       "      <td>T</td>\n",
       "      <td>rs528162115</td>\n",
       "      <td>100</td>\n",
       "      <td>PASS</td>\n",
       "      <td>AC=1;AF=0.000199681;AN=5008;NS=2504;DP=16150;E...</td>\n",
       "      <td>1</td>\n",
       "    </tr>\n",
       "    <tr>\n",
       "      <th>4</th>\n",
       "      <td>1</td>\n",
       "      <td>33255594</td>\n",
       "      <td>33255595</td>\n",
       "      <td>C</td>\n",
       "      <td>T</td>\n",
       "      <td>rs185431297</td>\n",
       "      <td>100</td>\n",
       "      <td>PASS</td>\n",
       "      <td>AC=6;AF=0.00119808;AN=5008;NS=2504;DP=12377;EA...</td>\n",
       "      <td>1</td>\n",
       "    </tr>\n",
       "    <tr>\n",
       "      <th>5</th>\n",
       "      <td>1</td>\n",
       "      <td>33295904</td>\n",
       "      <td>33295905</td>\n",
       "      <td>C</td>\n",
       "      <td>T</td>\n",
       "      <td>rs532923873</td>\n",
       "      <td>100</td>\n",
       "      <td>PASS</td>\n",
       "      <td>AC=1;AF=0.000199681;AN=5008;NS=2504;DP=18881;E...</td>\n",
       "      <td>1</td>\n",
       "    </tr>\n",
       "    <tr>\n",
       "      <th>6</th>\n",
       "      <td>1</td>\n",
       "      <td>33335767</td>\n",
       "      <td>33335768</td>\n",
       "      <td>C</td>\n",
       "      <td>T</td>\n",
       "      <td>rs548587907</td>\n",
       "      <td>100</td>\n",
       "      <td>PASS</td>\n",
       "      <td>AC=1;AF=0.000199681;AN=5008;NS=2504;DP=12369;E...</td>\n",
       "      <td>1</td>\n",
       "    </tr>\n",
       "    <tr>\n",
       "      <th>7</th>\n",
       "      <td>1</td>\n",
       "      <td>33356021</td>\n",
       "      <td>33356022</td>\n",
       "      <td>C</td>\n",
       "      <td>T</td>\n",
       "      <td>rs144877379</td>\n",
       "      <td>100</td>\n",
       "      <td>PASS</td>\n",
       "      <td>AC=1;AF=0.000199681;AN=5008;NS=2504;DP=20639;E...</td>\n",
       "      <td>1</td>\n",
       "    </tr>\n",
       "    <tr>\n",
       "      <th>8</th>\n",
       "      <td>1</td>\n",
       "      <td>33357032</td>\n",
       "      <td>33357033</td>\n",
       "      <td>C</td>\n",
       "      <td>T</td>\n",
       "      <td>rs559320134</td>\n",
       "      <td>100</td>\n",
       "      <td>PASS</td>\n",
       "      <td>AC=2;AF=0.000399361;AN=5008;NS=2504;DP=18751;E...</td>\n",
       "      <td>1</td>\n",
       "    </tr>\n",
       "    <tr>\n",
       "      <th>9</th>\n",
       "      <td>1</td>\n",
       "      <td>33360652</td>\n",
       "      <td>33360653</td>\n",
       "      <td>C</td>\n",
       "      <td>T</td>\n",
       "      <td>rs539478097</td>\n",
       "      <td>100</td>\n",
       "      <td>PASS</td>\n",
       "      <td>AC=1;AF=0.000199681;AN=5008;NS=2504;DP=18273;E...</td>\n",
       "      <td>1</td>\n",
       "    </tr>\n",
       "  </tbody>\n",
       "</table>\n",
       "</div>"
      ],
      "text/plain": [
       "  chrm  start_position  end_position reference_bases alternate_bases  \\\n",
       "0    1        33216544      33216545               C               T   \n",
       "1    1        33216657      33216658               C               T   \n",
       "2    1        33233956      33233957               C               T   \n",
       "3    1        33254320      33254321               C               T   \n",
       "4    1        33255594      33255595               C               T   \n",
       "5    1        33295904      33295905               C               T   \n",
       "6    1        33335767      33335768               C               T   \n",
       "7    1        33356021      33356022               C               T   \n",
       "8    1        33357032      33357033               C               T   \n",
       "9    1        33360652      33360653               C               T   \n",
       "\n",
       "          rsid qual filter                                               info  \\\n",
       "0  rs530031665  100   PASS  AC=2;AF=0.000399361;AN=5008;NS=2504;DP=16121;E...   \n",
       "1  rs565542327  100   PASS  AC=1;AF=0.000199681;AN=5008;NS=2504;DP=18933;E...   \n",
       "2  rs534423375  100   PASS  AC=1;AF=0.000199681;AN=5008;NS=2504;DP=18999;E...   \n",
       "3  rs528162115  100   PASS  AC=1;AF=0.000199681;AN=5008;NS=2504;DP=16150;E...   \n",
       "4  rs185431297  100   PASS  AC=6;AF=0.00119808;AN=5008;NS=2504;DP=12377;EA...   \n",
       "5  rs532923873  100   PASS  AC=1;AF=0.000199681;AN=5008;NS=2504;DP=18881;E...   \n",
       "6  rs548587907  100   PASS  AC=1;AF=0.000199681;AN=5008;NS=2504;DP=12369;E...   \n",
       "7  rs144877379  100   PASS  AC=1;AF=0.000199681;AN=5008;NS=2504;DP=20639;E...   \n",
       "8  rs559320134  100   PASS  AC=2;AF=0.000399361;AN=5008;NS=2504;DP=18751;E...   \n",
       "9  rs539478097  100   PASS  AC=1;AF=0.000199681;AN=5008;NS=2504;DP=18273;E...   \n",
       "\n",
       "  chromosome  \n",
       "0          1  \n",
       "1          1  \n",
       "2          1  \n",
       "3          1  \n",
       "4          1  \n",
       "5          1  \n",
       "6          1  \n",
       "7          1  \n",
       "8          1  \n",
       "9          1  "
      ]
     },
     "execution_count": 3,
     "metadata": {},
     "output_type": "execute_result"
    }
   ],
   "source": [
    "# pd.set_option('display.max_colwidth', None) # This code expands the table horizontally so that all table cells are visible.\n",
    "pd.read_sql('SELECT * FROM default.g1000vcf_csv_int LIMIT 10', conn).head(10)"
   ]
  },
  {
   "cell_type": "markdown",
   "id": "bac425fa",
   "metadata": {
    "id": "bac425fa"
   },
   "source": [
    "We will go through a few important columns for you to understand in the table above. If you want to dive deeper, you may find this document helpful:https://samtools.github.io/hts-specs/VCFv4.2.pdf\n",
    "\n",
    "1. `chrm` is the chromosome location.\n",
    "2. `start_position` is the start position of the DNA variant.\n",
    "3. `end_position` is the end position of the DNA variant.\n",
    "4. `reference_base` is the allele at a specific location in the reference genomes, which are considered as the \"approximated normal\".\n",
    "5. `alternate_base` is the allele that shows up at a specific location in the sample, but does not exist at the corresponding location in the reference genomes.\n",
    "6. `rsid` is the identification number of the SNPs (Single Nucleotide Polymorphism), see here: https://www.snpedia.com/index.php/SNPedia\n",
    "7. `qual` is the Phred-scaled quality score for the assertion made in ALT.\n",
    "8. `filter` indicates PASS when the position has passed all filters."
   ]
  },
  {
   "cell_type": "markdown",
   "id": "5f7d502e",
   "metadata": {
    "id": "5f7d502e"
   },
   "source": [
    "The `info` column explains additional information about the data. In the example below, we can tell the percentage of East Asian population who has `rs559815820` SNP is only **0.0399361%**. That is 2 alleles count out of 5008 alleles from 2504 samples in the ***1000 Genomes Project***. The percentage of East Asian population who has `rs559815820` SNP is **0.1%**."
   ]
  },
  {
   "cell_type": "markdown",
   "id": "f54bcd9b",
   "metadata": {
    "id": "f54bcd9b"
   },
   "source": [
    "<img src=\"materials/images/example-1.png\"/>"
   ]
  },
  {
   "cell_type": "markdown",
   "id": "c4e3a716",
   "metadata": {
    "id": "c4e3a716"
   },
   "source": [
    "Now, try to reference the explanation below about the additional information section. Select a SNP from the data you queried: How does this SNP present in the ethnic group you belong to, in comparison to other ethnic groups?\n",
    "\n",
    "1. `AC` stands for allele count in genotypes.\n",
    "2. `AF` stands for allele frequency. Note: allele frequency (AF) = allele count (AC)/ allele number (AN)\n",
    "3. `AN` stands for total number of alleles in genotypes.\n",
    "4. `NS` stands for number of samples with data.\n",
    "5. `EAS_AF` is the allele frequency of **East Asian population**.\n",
    "6. `AMR_AF` is the allele frequency of **Ad Mixed American population**.\n",
    "7. `EUR_AF` is the allele frequency of **European population**.\n",
    "8. `AFR_AF` is the allele frequency of **African population**.\n",
    "9. `SAS_AF` is the allele frequency of **South Asian population**."
   ]
  },
  {
   "cell_type": "markdown",
   "id": "2398b201",
   "metadata": {
    "id": "2398b201"
   },
   "source": [
    "---"
   ]
  },
  {
   "cell_type": "markdown",
   "id": "a0ba4728",
   "metadata": {
    "id": "a0ba4728"
   },
   "source": [
    "# Search for SNPs (Single Nucleotide Polymorphism)"
   ]
  },
  {
   "cell_type": "markdown",
   "id": "3b52cc1c",
   "metadata": {
    "id": "3b52cc1c"
   },
   "source": [
    "Next, pick a SNPs you are interested in investigating from this website: https://www.snpedia.com\n",
    "\n",
    "The website has SNPs associated with a wide range of phenotypes. You could start exploring the popular SNPs on the homepage.\n",
    "\n",
    "Here are a few examples:\n",
    "1. `rs53576` is highly associated with the ability to empathize with others.\n",
    "2. `rs72921001` is responsible for certain population's dislike towards the taste of cilantro.\n",
    "3. `rs28936679` is associated with sleep disorder.\n",
    "4. `rs1805009` is associated with skin cancer."
   ]
  },
  {
   "cell_type": "markdown",
   "id": "24111193",
   "metadata": {
    "id": "24111193"
   },
   "source": [
    "The example code below calls the data in the ***1000 Genomes Project*** that has `rs12913832`, see the code  ` WHERE rsid='rs12913832'`.\n",
    "\n",
    "`rs12913832` is the SNP associated with blue or brown eye color."
   ]
  },
  {
   "cell_type": "code",
   "execution_count": 4,
   "id": "c3ea6a0c",
   "metadata": {
    "id": "c3ea6a0c"
   },
   "outputs": [
    {
     "name": "stderr",
     "output_type": "stream",
     "text": [
      "/tmp/ipykernel_101/1831946132.py:2: UserWarning: pandas only supports SQLAlchemy connectable (engine/connection) or database string URI or sqlite3 DBAPI2 connection. Other DBAPI2 objects are not tested. Please consider using SQLAlchemy.\n",
      "  pd.read_sql(\"SELECT * FROM \\\"default\\\".g1000vcf_csv_int WHERE rsid='rs12913832'\", conn).head()\n"
     ]
    },
    {
     "data": {
      "text/html": [
       "<div>\n",
       "<style scoped>\n",
       "    .dataframe tbody tr th:only-of-type {\n",
       "        vertical-align: middle;\n",
       "    }\n",
       "\n",
       "    .dataframe tbody tr th {\n",
       "        vertical-align: top;\n",
       "    }\n",
       "\n",
       "    .dataframe thead th {\n",
       "        text-align: right;\n",
       "    }\n",
       "</style>\n",
       "<table border=\"1\" class=\"dataframe\">\n",
       "  <thead>\n",
       "    <tr style=\"text-align: right;\">\n",
       "      <th></th>\n",
       "      <th>chrm</th>\n",
       "      <th>start_position</th>\n",
       "      <th>end_position</th>\n",
       "      <th>reference_bases</th>\n",
       "      <th>alternate_bases</th>\n",
       "      <th>rsid</th>\n",
       "      <th>qual</th>\n",
       "      <th>filter</th>\n",
       "      <th>info</th>\n",
       "      <th>chromosome</th>\n",
       "    </tr>\n",
       "  </thead>\n",
       "  <tbody>\n",
       "    <tr>\n",
       "      <th>0</th>\n",
       "      <td>15</td>\n",
       "      <td>28365617</td>\n",
       "      <td>28365618</td>\n",
       "      <td>A</td>\n",
       "      <td>G</td>\n",
       "      <td>rs12913832</td>\n",
       "      <td>100</td>\n",
       "      <td>PASS</td>\n",
       "      <td>AC=888;AF=0.177316;AN=5008;NS=2504;DP=19161;EAS_AF=0.002;AMR_AF=0.2017;AFR_AF=0.028;EUR_AF=0.6362;SAS_AF=0.0706;AA=A|||;VT=SNP</td>\n",
       "      <td>15</td>\n",
       "    </tr>\n",
       "  </tbody>\n",
       "</table>\n",
       "</div>"
      ],
      "text/plain": [
       "  chrm  start_position  end_position reference_bases alternate_bases  \\\n",
       "0   15        28365617      28365618               A               G   \n",
       "\n",
       "         rsid qual filter  \\\n",
       "0  rs12913832  100   PASS   \n",
       "\n",
       "                                                                                                                             info  \\\n",
       "0  AC=888;AF=0.177316;AN=5008;NS=2504;DP=19161;EAS_AF=0.002;AMR_AF=0.2017;AFR_AF=0.028;EUR_AF=0.6362;SAS_AF=0.0706;AA=A|||;VT=SNP   \n",
       "\n",
       "  chromosome  \n",
       "0         15  "
      ]
     },
     "execution_count": 4,
     "metadata": {},
     "output_type": "execute_result"
    }
   ],
   "source": [
    "pd.set_option('display.max_colwidth', None) # This code expands the table horizontally so that all table cells are visible.\n",
    "pd.read_sql(\"SELECT * FROM \\\"default\\\".g1000vcf_csv_int WHERE rsid='rs12913832'\", conn).head()"
   ]
  },
  {
   "cell_type": "markdown",
   "id": "5d37f6ea",
   "metadata": {
    "id": "5d37f6ea"
   },
   "source": [
    "Does the result above make sense to you?\n",
    "\n",
    "We can see allele frequency of `rs12913832` among **Ad Mixed American** and **European** populations are 20.17% and 63.62% respectively, while only 0.2% among **East Asian** and 2.8% among **African** populations."
   ]
  },
  {
   "cell_type": "markdown",
   "id": "bbdffb00",
   "metadata": {
    "id": "bbdffb00"
   },
   "source": [
    "---"
   ]
  },
  {
   "cell_type": "markdown",
   "id": "8b582c80",
   "metadata": {
    "id": "8b582c80"
   },
   "source": [
    "# Query COSMIC68 Annotation Dataset (hg19)"
   ]
  },
  {
   "cell_type": "markdown",
   "id": "6ad07537",
   "metadata": {
    "id": "6ad07537"
   },
   "source": [
    "***COSMIC*** database is short for Catalogue of Somatic Mutations in Cancer [hg19 cosmic 68]. Learn more at\n",
    "https://cancer.sanger.ac.uk/cosmic.\n",
    "\n",
    "Now, let's take a look at few random rows of the ***COSMIC*** database:"
   ]
  },
  {
   "cell_type": "code",
   "execution_count": 5,
   "id": "f478a8c1",
   "metadata": {
    "id": "f478a8c1"
   },
   "outputs": [
    {
     "name": "stderr",
     "output_type": "stream",
     "text": [
      "/tmp/ipykernel_101/26311468.py:1: UserWarning: pandas only supports SQLAlchemy connectable (engine/connection) or database string URI or sqlite3 DBAPI2 connection. Other DBAPI2 objects are not tested. Please consider using SQLAlchemy.\n",
      "  pd.read_sql('SELECT * FROM \"1000_genomes\".hg19_cosmic68 LIMIT 10', conn).head(10)\n"
     ]
    },
    {
     "data": {
      "text/html": [
       "<div>\n",
       "<style scoped>\n",
       "    .dataframe tbody tr th:only-of-type {\n",
       "        vertical-align: middle;\n",
       "    }\n",
       "\n",
       "    .dataframe tbody tr th {\n",
       "        vertical-align: top;\n",
       "    }\n",
       "\n",
       "    .dataframe thead th {\n",
       "        text-align: right;\n",
       "    }\n",
       "</style>\n",
       "<table border=\"1\" class=\"dataframe\">\n",
       "  <thead>\n",
       "    <tr style=\"text-align: right;\">\n",
       "      <th></th>\n",
       "      <th>chrm</th>\n",
       "      <th>start_position</th>\n",
       "      <th>end_position</th>\n",
       "      <th>reference_bases</th>\n",
       "      <th>alternate_bases</th>\n",
       "      <th>cosmic_info</th>\n",
       "    </tr>\n",
       "  </thead>\n",
       "  <tbody>\n",
       "    <tr>\n",
       "      <th>0</th>\n",
       "      <td>10</td>\n",
       "      <td>22209854</td>\n",
       "      <td>22209855</td>\n",
       "      <td>G</td>\n",
       "      <td>A</td>\n",
       "      <td>ID=COSM917032;OCCURENCE=1(endometrium)</td>\n",
       "    </tr>\n",
       "    <tr>\n",
       "      <th>1</th>\n",
       "      <td>10</td>\n",
       "      <td>22880596</td>\n",
       "      <td>22880597</td>\n",
       "      <td>G</td>\n",
       "      <td>A</td>\n",
       "      <td>ID=COSM1262222;OCCURENCE=1(oesophagus)</td>\n",
       "    </tr>\n",
       "    <tr>\n",
       "      <th>2</th>\n",
       "      <td>10</td>\n",
       "      <td>24762254</td>\n",
       "      <td>24762255</td>\n",
       "      <td>G</td>\n",
       "      <td>A</td>\n",
       "      <td>ID=COSM1651216,COSM917097;OCCURENCE=1(endometrium)</td>\n",
       "    </tr>\n",
       "    <tr>\n",
       "      <th>3</th>\n",
       "      <td>10</td>\n",
       "      <td>24832945</td>\n",
       "      <td>24832946</td>\n",
       "      <td>G</td>\n",
       "      <td>A</td>\n",
       "      <td>ID=COSM917132;OCCURENCE=1(endometrium)</td>\n",
       "    </tr>\n",
       "    <tr>\n",
       "      <th>4</th>\n",
       "      <td>10</td>\n",
       "      <td>25877983</td>\n",
       "      <td>25877984</td>\n",
       "      <td>G</td>\n",
       "      <td>A</td>\n",
       "      <td>ID=COSM268400;OCCURENCE=1(large_intestine)</td>\n",
       "    </tr>\n",
       "    <tr>\n",
       "      <th>5</th>\n",
       "      <td>10</td>\n",
       "      <td>26825105</td>\n",
       "      <td>26825106</td>\n",
       "      <td>G</td>\n",
       "      <td>A</td>\n",
       "      <td>ID=COSM1347396;OCCURENCE=1(large_intestine)</td>\n",
       "    </tr>\n",
       "    <tr>\n",
       "      <th>6</th>\n",
       "      <td>10</td>\n",
       "      <td>27037564</td>\n",
       "      <td>27037565</td>\n",
       "      <td>G</td>\n",
       "      <td>A</td>\n",
       "      <td>ID=COSM295113;OCCURENCE=1(large_intestine)</td>\n",
       "    </tr>\n",
       "    <tr>\n",
       "      <th>7</th>\n",
       "      <td>10</td>\n",
       "      <td>27504517</td>\n",
       "      <td>27504518</td>\n",
       "      <td>G</td>\n",
       "      <td>A</td>\n",
       "      <td>ID=COSM917430,COSM917429;OCCURENCE=1(endometrium)</td>\n",
       "    </tr>\n",
       "    <tr>\n",
       "      <th>8</th>\n",
       "      <td>10</td>\n",
       "      <td>27702227</td>\n",
       "      <td>27702228</td>\n",
       "      <td>G</td>\n",
       "      <td>A</td>\n",
       "      <td>ID=COSM119734;OCCURENCE=1(ovary)</td>\n",
       "    </tr>\n",
       "    <tr>\n",
       "      <th>9</th>\n",
       "      <td>10</td>\n",
       "      <td>27702717</td>\n",
       "      <td>27702718</td>\n",
       "      <td>G</td>\n",
       "      <td>A</td>\n",
       "      <td>ID=COSM1347457;OCCURENCE=1(large_intestine)</td>\n",
       "    </tr>\n",
       "  </tbody>\n",
       "</table>\n",
       "</div>"
      ],
      "text/plain": [
       "  chrm start_position end_position reference_bases alternate_bases  \\\n",
       "0   10       22209854     22209855               G               A   \n",
       "1   10       22880596     22880597               G               A   \n",
       "2   10       24762254     24762255               G               A   \n",
       "3   10       24832945     24832946               G               A   \n",
       "4   10       25877983     25877984               G               A   \n",
       "5   10       26825105     26825106               G               A   \n",
       "6   10       27037564     27037565               G               A   \n",
       "7   10       27504517     27504518               G               A   \n",
       "8   10       27702227     27702228               G               A   \n",
       "9   10       27702717     27702718               G               A   \n",
       "\n",
       "                                          cosmic_info  \n",
       "0              ID=COSM917032;OCCURENCE=1(endometrium)  \n",
       "1              ID=COSM1262222;OCCURENCE=1(oesophagus)  \n",
       "2  ID=COSM1651216,COSM917097;OCCURENCE=1(endometrium)  \n",
       "3              ID=COSM917132;OCCURENCE=1(endometrium)  \n",
       "4          ID=COSM268400;OCCURENCE=1(large_intestine)  \n",
       "5         ID=COSM1347396;OCCURENCE=1(large_intestine)  \n",
       "6          ID=COSM295113;OCCURENCE=1(large_intestine)  \n",
       "7   ID=COSM917430,COSM917429;OCCURENCE=1(endometrium)  \n",
       "8                    ID=COSM119734;OCCURENCE=1(ovary)  \n",
       "9         ID=COSM1347457;OCCURENCE=1(large_intestine)  "
      ]
     },
     "execution_count": 5,
     "metadata": {},
     "output_type": "execute_result"
    }
   ],
   "source": [
    "pd.read_sql('SELECT * FROM \"1000_genomes\".hg19_cosmic68 LIMIT 10', conn).head(10)"
   ]
  },
  {
   "cell_type": "markdown",
   "id": "5b2ad8c8",
   "metadata": {
    "id": "5b2ad8c8"
   },
   "source": [
    "Like previous datasets, we see the chromosome location, start and end positions in DNA sequence, reference allele and alternate allele.\n",
    "\n",
    "The `cosmic_info` column tells us the types of cancer and mutation occurence."
   ]
  },
  {
   "cell_type": "markdown",
   "id": "96341538",
   "metadata": {
    "id": "96341538"
   },
   "source": [
    "---"
   ]
  },
  {
   "cell_type": "markdown",
   "id": "01e279ff",
   "metadata": {
    "id": "01e279ff"
   },
   "source": [
    "# Query UCSC RefGene Annotation Dataset (hg19)"
   ]
  },
  {
   "cell_type": "markdown",
   "id": "180c4f78",
   "metadata": {
    "id": "180c4f78"
   },
   "source": [
    "The NCBI RefSeq Genes composite track shows human protein-coding and non-protein-coding genes taken from the NCBI RNA reference sequences collection (RefSeq) [hg19 refGene]. You could learn more at the following:\n",
    "- https://hgdownload.cse.ucsc.edu/goldenPath/hg19/database/\n",
    "- https://genome.ucsc.edu/cgi-bin/hgTables?db=hg19&hgta_group=genes&hgta_track=refSeqComposite&hgta_table=refGene&hgta_doSchema=describe+table+schema (Schema for NCBI RefSeq - RefSeq genes from NCBI)"
   ]
  },
  {
   "cell_type": "markdown",
   "id": "bde31319",
   "metadata": {
    "id": "bde31319"
   },
   "source": [
    "<img src=\"materials/images/genetic-mutations.png\"/>"
   ]
  },
  {
   "cell_type": "markdown",
   "id": "3440eed7",
   "metadata": {
    "id": "3440eed7"
   },
   "source": [
    "Now, let's take a look at random rows of the dataset:"
   ]
  },
  {
   "cell_type": "code",
   "execution_count": 6,
   "id": "2898afc2",
   "metadata": {
    "id": "2898afc2"
   },
   "outputs": [
    {
     "name": "stderr",
     "output_type": "stream",
     "text": [
      "/tmp/ipykernel_101/730593987.py:1: UserWarning: pandas only supports SQLAlchemy connectable (engine/connection) or database string URI or sqlite3 DBAPI2 connection. Other DBAPI2 objects are not tested. Please consider using SQLAlchemy.\n",
      "  pd.read_sql('SELECT * FROM \"1000_genomes\".hg19_ucsc_refgene_int LIMIT 10', conn).head(10)\n"
     ]
    },
    {
     "data": {
      "text/html": [
       "<div>\n",
       "<style scoped>\n",
       "    .dataframe tbody tr th:only-of-type {\n",
       "        vertical-align: middle;\n",
       "    }\n",
       "\n",
       "    .dataframe tbody tr th {\n",
       "        vertical-align: top;\n",
       "    }\n",
       "\n",
       "    .dataframe thead th {\n",
       "        text-align: right;\n",
       "    }\n",
       "</style>\n",
       "<table border=\"1\" class=\"dataframe\">\n",
       "  <thead>\n",
       "    <tr style=\"text-align: right;\">\n",
       "      <th></th>\n",
       "      <th>chrm</th>\n",
       "      <th>start_position</th>\n",
       "      <th>end_position</th>\n",
       "      <th>bin</th>\n",
       "      <th>name</th>\n",
       "      <th>strand</th>\n",
       "      <th>cdsstart</th>\n",
       "      <th>cdsend</th>\n",
       "      <th>exoncount</th>\n",
       "      <th>exonstarts</th>\n",
       "      <th>exonends</th>\n",
       "      <th>score</th>\n",
       "      <th>name2</th>\n",
       "      <th>cdsstartstat</th>\n",
       "      <th>cdsendstat</th>\n",
       "      <th>exonframes</th>\n",
       "    </tr>\n",
       "  </thead>\n",
       "  <tbody>\n",
       "    <tr>\n",
       "      <th>0</th>\n",
       "      <td>X</td>\n",
       "      <td>66905782</td>\n",
       "      <td>66905968</td>\n",
       "      <td>136</td>\n",
       "      <td>NM_001348064</td>\n",
       "      <td>+</td>\n",
       "      <td>66764988</td>\n",
       "      <td>66905885</td>\n",
       "      <td>3</td>\n",
       "      <td>66764464,66905782,66914514,</td>\n",
       "      <td>66766604,66905968,66915917,</td>\n",
       "      <td>0</td>\n",
       "      <td>AR</td>\n",
       "      <td>cmpl</td>\n",
       "      <td>cmpl</td>\n",
       "      <td>0,2,-1,</td>\n",
       "    </tr>\n",
       "    <tr>\n",
       "      <th>1</th>\n",
       "      <td>X</td>\n",
       "      <td>66914514</td>\n",
       "      <td>66915917</td>\n",
       "      <td>136</td>\n",
       "      <td>NM_001348064</td>\n",
       "      <td>+</td>\n",
       "      <td>66764988</td>\n",
       "      <td>66905885</td>\n",
       "      <td>3</td>\n",
       "      <td>66764464,66905782,66914514,</td>\n",
       "      <td>66766604,66905968,66915917,</td>\n",
       "      <td>0</td>\n",
       "      <td>AR</td>\n",
       "      <td>cmpl</td>\n",
       "      <td>cmpl</td>\n",
       "      <td>0,2,-1,</td>\n",
       "    </tr>\n",
       "    <tr>\n",
       "      <th>2</th>\n",
       "      <td>X</td>\n",
       "      <td>66764464</td>\n",
       "      <td>66766604</td>\n",
       "      <td>136</td>\n",
       "      <td>NM_001348064</td>\n",
       "      <td>+</td>\n",
       "      <td>66764988</td>\n",
       "      <td>66905885</td>\n",
       "      <td>3</td>\n",
       "      <td>66764464,66905782,66914514,</td>\n",
       "      <td>66766604,66905968,66915917,</td>\n",
       "      <td>0</td>\n",
       "      <td>AR</td>\n",
       "      <td>cmpl</td>\n",
       "      <td>cmpl</td>\n",
       "      <td>0,2,-1,</td>\n",
       "    </tr>\n",
       "    <tr>\n",
       "      <th>3</th>\n",
       "      <td>X</td>\n",
       "      <td>66909397</td>\n",
       "      <td>66909600</td>\n",
       "      <td>136</td>\n",
       "      <td>NM_001348063</td>\n",
       "      <td>+</td>\n",
       "      <td>66764988</td>\n",
       "      <td>66909459</td>\n",
       "      <td>4</td>\n",
       "      <td>66764464,66863097,66905851,66909397,</td>\n",
       "      <td>66766604,66863249,66905968,66909600,</td>\n",
       "      <td>0</td>\n",
       "      <td>AR</td>\n",
       "      <td>cmpl</td>\n",
       "      <td>cmpl</td>\n",
       "      <td>0,2,1,1,</td>\n",
       "    </tr>\n",
       "    <tr>\n",
       "      <th>4</th>\n",
       "      <td>X</td>\n",
       "      <td>66764464</td>\n",
       "      <td>66766604</td>\n",
       "      <td>136</td>\n",
       "      <td>NM_001348063</td>\n",
       "      <td>+</td>\n",
       "      <td>66764988</td>\n",
       "      <td>66909459</td>\n",
       "      <td>4</td>\n",
       "      <td>66764464,66863097,66905851,66909397,</td>\n",
       "      <td>66766604,66863249,66905968,66909600,</td>\n",
       "      <td>0</td>\n",
       "      <td>AR</td>\n",
       "      <td>cmpl</td>\n",
       "      <td>cmpl</td>\n",
       "      <td>0,2,1,1,</td>\n",
       "    </tr>\n",
       "    <tr>\n",
       "      <th>5</th>\n",
       "      <td>X</td>\n",
       "      <td>66863097</td>\n",
       "      <td>66863249</td>\n",
       "      <td>136</td>\n",
       "      <td>NM_001348063</td>\n",
       "      <td>+</td>\n",
       "      <td>66764988</td>\n",
       "      <td>66909459</td>\n",
       "      <td>4</td>\n",
       "      <td>66764464,66863097,66905851,66909397,</td>\n",
       "      <td>66766604,66863249,66905968,66909600,</td>\n",
       "      <td>0</td>\n",
       "      <td>AR</td>\n",
       "      <td>cmpl</td>\n",
       "      <td>cmpl</td>\n",
       "      <td>0,2,1,1,</td>\n",
       "    </tr>\n",
       "    <tr>\n",
       "      <th>6</th>\n",
       "      <td>X</td>\n",
       "      <td>66905851</td>\n",
       "      <td>66905968</td>\n",
       "      <td>136</td>\n",
       "      <td>NM_001348063</td>\n",
       "      <td>+</td>\n",
       "      <td>66764988</td>\n",
       "      <td>66909459</td>\n",
       "      <td>4</td>\n",
       "      <td>66764464,66863097,66905851,66909397,</td>\n",
       "      <td>66766604,66863249,66905968,66909600,</td>\n",
       "      <td>0</td>\n",
       "      <td>AR</td>\n",
       "      <td>cmpl</td>\n",
       "      <td>cmpl</td>\n",
       "      <td>0,2,1,1,</td>\n",
       "    </tr>\n",
       "    <tr>\n",
       "      <th>7</th>\n",
       "      <td>X</td>\n",
       "      <td>66914514</td>\n",
       "      <td>66915917</td>\n",
       "      <td>136</td>\n",
       "      <td>NM_001348061</td>\n",
       "      <td>+</td>\n",
       "      <td>66764988</td>\n",
       "      <td>66914564</td>\n",
       "      <td>4</td>\n",
       "      <td>66764464,66863097,66905851,66914514,</td>\n",
       "      <td>66766604,66863249,66905968,66915917,</td>\n",
       "      <td>0</td>\n",
       "      <td>AR</td>\n",
       "      <td>cmpl</td>\n",
       "      <td>cmpl</td>\n",
       "      <td>0,2,1,1,</td>\n",
       "    </tr>\n",
       "    <tr>\n",
       "      <th>8</th>\n",
       "      <td>X</td>\n",
       "      <td>66905851</td>\n",
       "      <td>66905968</td>\n",
       "      <td>136</td>\n",
       "      <td>NM_001348061</td>\n",
       "      <td>+</td>\n",
       "      <td>66764988</td>\n",
       "      <td>66914564</td>\n",
       "      <td>4</td>\n",
       "      <td>66764464,66863097,66905851,66914514,</td>\n",
       "      <td>66766604,66863249,66905968,66915917,</td>\n",
       "      <td>0</td>\n",
       "      <td>AR</td>\n",
       "      <td>cmpl</td>\n",
       "      <td>cmpl</td>\n",
       "      <td>0,2,1,1,</td>\n",
       "    </tr>\n",
       "    <tr>\n",
       "      <th>9</th>\n",
       "      <td>X</td>\n",
       "      <td>66863097</td>\n",
       "      <td>66863249</td>\n",
       "      <td>136</td>\n",
       "      <td>NM_001348061</td>\n",
       "      <td>+</td>\n",
       "      <td>66764988</td>\n",
       "      <td>66914564</td>\n",
       "      <td>4</td>\n",
       "      <td>66764464,66863097,66905851,66914514,</td>\n",
       "      <td>66766604,66863249,66905968,66915917,</td>\n",
       "      <td>0</td>\n",
       "      <td>AR</td>\n",
       "      <td>cmpl</td>\n",
       "      <td>cmpl</td>\n",
       "      <td>0,2,1,1,</td>\n",
       "    </tr>\n",
       "  </tbody>\n",
       "</table>\n",
       "</div>"
      ],
      "text/plain": [
       "  chrm  start_position  end_position  bin          name strand  cdsstart  \\\n",
       "0    X        66905782      66905968  136  NM_001348064      +  66764988   \n",
       "1    X        66914514      66915917  136  NM_001348064      +  66764988   \n",
       "2    X        66764464      66766604  136  NM_001348064      +  66764988   \n",
       "3    X        66909397      66909600  136  NM_001348063      +  66764988   \n",
       "4    X        66764464      66766604  136  NM_001348063      +  66764988   \n",
       "5    X        66863097      66863249  136  NM_001348063      +  66764988   \n",
       "6    X        66905851      66905968  136  NM_001348063      +  66764988   \n",
       "7    X        66914514      66915917  136  NM_001348061      +  66764988   \n",
       "8    X        66905851      66905968  136  NM_001348061      +  66764988   \n",
       "9    X        66863097      66863249  136  NM_001348061      +  66764988   \n",
       "\n",
       "     cdsend exoncount                            exonstarts  \\\n",
       "0  66905885         3           66764464,66905782,66914514,   \n",
       "1  66905885         3           66764464,66905782,66914514,   \n",
       "2  66905885         3           66764464,66905782,66914514,   \n",
       "3  66909459         4  66764464,66863097,66905851,66909397,   \n",
       "4  66909459         4  66764464,66863097,66905851,66909397,   \n",
       "5  66909459         4  66764464,66863097,66905851,66909397,   \n",
       "6  66909459         4  66764464,66863097,66905851,66909397,   \n",
       "7  66914564         4  66764464,66863097,66905851,66914514,   \n",
       "8  66914564         4  66764464,66863097,66905851,66914514,   \n",
       "9  66914564         4  66764464,66863097,66905851,66914514,   \n",
       "\n",
       "                               exonends score name2 cdsstartstat cdsendstat  \\\n",
       "0           66766604,66905968,66915917,     0    AR         cmpl       cmpl   \n",
       "1           66766604,66905968,66915917,     0    AR         cmpl       cmpl   \n",
       "2           66766604,66905968,66915917,     0    AR         cmpl       cmpl   \n",
       "3  66766604,66863249,66905968,66909600,     0    AR         cmpl       cmpl   \n",
       "4  66766604,66863249,66905968,66909600,     0    AR         cmpl       cmpl   \n",
       "5  66766604,66863249,66905968,66909600,     0    AR         cmpl       cmpl   \n",
       "6  66766604,66863249,66905968,66909600,     0    AR         cmpl       cmpl   \n",
       "7  66766604,66863249,66905968,66915917,     0    AR         cmpl       cmpl   \n",
       "8  66766604,66863249,66905968,66915917,     0    AR         cmpl       cmpl   \n",
       "9  66766604,66863249,66905968,66915917,     0    AR         cmpl       cmpl   \n",
       "\n",
       "  exonframes  \n",
       "0    0,2,-1,  \n",
       "1    0,2,-1,  \n",
       "2    0,2,-1,  \n",
       "3   0,2,1,1,  \n",
       "4   0,2,1,1,  \n",
       "5   0,2,1,1,  \n",
       "6   0,2,1,1,  \n",
       "7   0,2,1,1,  \n",
       "8   0,2,1,1,  \n",
       "9   0,2,1,1,  "
      ]
     },
     "execution_count": 6,
     "metadata": {},
     "output_type": "execute_result"
    }
   ],
   "source": [
    "pd.read_sql('SELECT * FROM \"1000_genomes\".hg19_ucsc_refgene_int LIMIT 10', conn).head(10)"
   ]
  },
  {
   "cell_type": "markdown",
   "id": "3fd80a8a",
   "metadata": {
    "id": "3fd80a8a"
   },
   "source": [
    "Here are what some of the columns mean according to Schema for NCBI RefSeq - RefSeq genes from NCBI:\n",
    "\n",
    "1. `cdsstart`: Coding region start.\n",
    "2. `cdsend`: Coding region end.\n",
    "3. `exoncount`: Number of exons.\n",
    "4. `strand`: + or - for strand\n"
   ]
  },
  {
   "cell_type": "markdown",
   "id": "89d36709",
   "metadata": {
    "id": "89d36709"
   },
   "source": [
    "---"
   ]
  },
  {
   "cell_type": "markdown",
   "id": "d6c47fc7",
   "metadata": {
    "id": "d6c47fc7"
   },
   "source": [
    "# Variant-Based Annotation"
   ]
  },
  {
   "cell_type": "markdown",
   "id": "1cc8a79b",
   "metadata": {
    "id": "1cc8a79b"
   },
   "source": [
    "Variant-based annotation aims to look for **exact matches** between a query variant and a record in annotation datasets (i.e., two items have identical  chromosome, start position, end position, reference allele and alternative allele).\n",
    "\n",
    "The code below uses the `JOIN` function to look for exact matches between the ***1000 Genomes Project*** dataset and the ***COSMIC*** dataset. It compares the start and end positions, reference allele, alternate allele at chromosome 2 between the two datasets."
   ]
  },
  {
   "cell_type": "code",
   "execution_count": 7,
   "id": "7f140616",
   "metadata": {
    "id": "7f140616",
    "scrolled": true
   },
   "outputs": [
    {
     "name": "stderr",
     "output_type": "stream",
     "text": [
      "/tmp/ipykernel_101/4159624003.py:1: UserWarning: pandas only supports SQLAlchemy connectable (engine/connection) or database string URI or sqlite3 DBAPI2 connection. Other DBAPI2 objects are not tested. Please consider using SQLAlchemy.\n",
      "  pd.read_sql(\"SELECT A.chrm, A.start_position, A.end_position, A.reference_bases, A.alternate_bases,B.cosmic_info, A.info \"\n"
     ]
    },
    {
     "data": {
      "text/html": [
       "<div>\n",
       "<style scoped>\n",
       "    .dataframe tbody tr th:only-of-type {\n",
       "        vertical-align: middle;\n",
       "    }\n",
       "\n",
       "    .dataframe tbody tr th {\n",
       "        vertical-align: top;\n",
       "    }\n",
       "\n",
       "    .dataframe thead th {\n",
       "        text-align: right;\n",
       "    }\n",
       "</style>\n",
       "<table border=\"1\" class=\"dataframe\">\n",
       "  <thead>\n",
       "    <tr style=\"text-align: right;\">\n",
       "      <th></th>\n",
       "      <th>chrm</th>\n",
       "      <th>start_position</th>\n",
       "      <th>end_position</th>\n",
       "      <th>reference_bases</th>\n",
       "      <th>alternate_bases</th>\n",
       "      <th>cosmic_info</th>\n",
       "      <th>info</th>\n",
       "    </tr>\n",
       "  </thead>\n",
       "  <tbody>\n",
       "    <tr>\n",
       "      <th>0</th>\n",
       "      <td>2</td>\n",
       "      <td>55184</td>\n",
       "      <td>55185</td>\n",
       "      <td>G</td>\n",
       "      <td>A</td>\n",
       "      <td>ID=COSN206912;OCCURENCE=1(large_intestine)</td>\n",
       "      <td>AC=60;AF=0.0119808;AN=5008;NS=2504;DP=19415;EAS_AF=0;AMR_AF=0.0043;AFR_AF=0.0431;EUR_AF=0;SAS_AF=0;AA=G|||;VT=SNP</td>\n",
       "    </tr>\n",
       "    <tr>\n",
       "      <th>1</th>\n",
       "      <td>2</td>\n",
       "      <td>95490</td>\n",
       "      <td>95491</td>\n",
       "      <td>C</td>\n",
       "      <td>T</td>\n",
       "      <td>ID=COSN42681;OCCURENCE=4(central_nervous_system)</td>\n",
       "      <td>AC=17;AF=0.00339457;AN=5008;NS=2504;DP=16854;EAS_AF=0.0169;AMR_AF=0;AFR_AF=0;EUR_AF=0;SAS_AF=0;AA=C|||;VT=SNP</td>\n",
       "    </tr>\n",
       "    <tr>\n",
       "      <th>2</th>\n",
       "      <td>2</td>\n",
       "      <td>128457</td>\n",
       "      <td>128458</td>\n",
       "      <td>G</td>\n",
       "      <td>A</td>\n",
       "      <td>ID=COSN181337,COSN181637;OCCURENCE=1(stomach),2(large_intestine)</td>\n",
       "      <td>AC=1;AF=0.000199681;AN=5008;NS=2504;DP=17605;EAS_AF=0.001;AMR_AF=0;AFR_AF=0;EUR_AF=0;SAS_AF=0;AA=G|||;VT=SNP</td>\n",
       "    </tr>\n",
       "    <tr>\n",
       "      <th>3</th>\n",
       "      <td>2</td>\n",
       "      <td>133636</td>\n",
       "      <td>133637</td>\n",
       "      <td>G</td>\n",
       "      <td>A</td>\n",
       "      <td>ID=COSN33464;OCCURENCE=1(breast),1(large_intestine)</td>\n",
       "      <td>AC=3;AF=0.000599042;AN=5008;NS=2504;DP=19368;EAS_AF=0;AMR_AF=0;AFR_AF=0;EUR_AF=0;SAS_AF=0.0031;AA=G|||;VT=SNP</td>\n",
       "    </tr>\n",
       "    <tr>\n",
       "      <th>4</th>\n",
       "      <td>2</td>\n",
       "      <td>218857</td>\n",
       "      <td>218858</td>\n",
       "      <td>G</td>\n",
       "      <td>A</td>\n",
       "      <td>ID=COSM1404910,COSM1404911;OCCURENCE=1(large_intestine)</td>\n",
       "      <td>AC=1;AF=0.000199681;AN=5008;NS=2504;DP=17149;EAS_AF=0;AMR_AF=0;AFR_AF=0;EUR_AF=0.001;SAS_AF=0;AA=G|||;VT=SNP;EX_TARGET</td>\n",
       "    </tr>\n",
       "  </tbody>\n",
       "</table>\n",
       "</div>"
      ],
      "text/plain": [
       "  chrm  start_position  end_position reference_bases alternate_bases  \\\n",
       "0    2           55184         55185               G               A   \n",
       "1    2           95490         95491               C               T   \n",
       "2    2          128457        128458               G               A   \n",
       "3    2          133636        133637               G               A   \n",
       "4    2          218857        218858               G               A   \n",
       "\n",
       "                                                        cosmic_info  \\\n",
       "0                        ID=COSN206912;OCCURENCE=1(large_intestine)   \n",
       "1                  ID=COSN42681;OCCURENCE=4(central_nervous_system)   \n",
       "2  ID=COSN181337,COSN181637;OCCURENCE=1(stomach),2(large_intestine)   \n",
       "3               ID=COSN33464;OCCURENCE=1(breast),1(large_intestine)   \n",
       "4           ID=COSM1404910,COSM1404911;OCCURENCE=1(large_intestine)   \n",
       "\n",
       "                                                                                                                     info  \n",
       "0       AC=60;AF=0.0119808;AN=5008;NS=2504;DP=19415;EAS_AF=0;AMR_AF=0.0043;AFR_AF=0.0431;EUR_AF=0;SAS_AF=0;AA=G|||;VT=SNP  \n",
       "1           AC=17;AF=0.00339457;AN=5008;NS=2504;DP=16854;EAS_AF=0.0169;AMR_AF=0;AFR_AF=0;EUR_AF=0;SAS_AF=0;AA=C|||;VT=SNP  \n",
       "2            AC=1;AF=0.000199681;AN=5008;NS=2504;DP=17605;EAS_AF=0.001;AMR_AF=0;AFR_AF=0;EUR_AF=0;SAS_AF=0;AA=G|||;VT=SNP  \n",
       "3           AC=3;AF=0.000599042;AN=5008;NS=2504;DP=19368;EAS_AF=0;AMR_AF=0;AFR_AF=0;EUR_AF=0;SAS_AF=0.0031;AA=G|||;VT=SNP  \n",
       "4  AC=1;AF=0.000199681;AN=5008;NS=2504;DP=17149;EAS_AF=0;AMR_AF=0;AFR_AF=0;EUR_AF=0.001;SAS_AF=0;AA=G|||;VT=SNP;EX_TARGET  "
      ]
     },
     "execution_count": 7,
     "metadata": {},
     "output_type": "execute_result"
    }
   ],
   "source": [
    "pd.read_sql(\"SELECT A.chrm, A.start_position, A.end_position, A.reference_bases, A.alternate_bases,B.cosmic_info, A.info \"\n",
    "+ \" FROM (SELECT * FROM \\\"default\\\".g1000vcf_csv_int WHERE chrm='2') as A \"\n",
    "+ \" JOIN \"\n",
    "+ \" (SELECT * FROM \\\"1000_genomes\\\".hg19_cosmic68_int WHERE chrm='2') as B \"\n",
    "+ \" ON A.start_position=B.start_position AND A.alternate_bases=B.alternate_bases \"\n",
    "+ \" ORDER By  A.start_position\", conn).head()"
   ]
  },
  {
   "cell_type": "markdown",
   "id": "ff0e97ae",
   "metadata": {
    "id": "ff0e97ae"
   },
   "source": [
    "The returned table tells us information about genes associated with different types of cancers.\n",
    "\n",
    "In the example below, the cancer related to central nervous system is at chromosome 2, where the reference allele is C and alternate allele is T. It appears to only happen to **East Asian** population with a frequency of 1.69% while absent among other populations."
   ]
  },
  {
   "cell_type": "markdown",
   "id": "454c75a5",
   "metadata": {
    "id": "454c75a5"
   },
   "source": [
    "<img src=\"materials/images/example-2.png\"/>"
   ]
  },
  {
   "cell_type": "markdown",
   "id": "3cf54816",
   "metadata": {
    "id": "3cf54816"
   },
   "source": [
    "---"
   ]
  },
  {
   "cell_type": "markdown",
   "id": "ed2e7181",
   "metadata": {
    "id": "ed2e7181"
   },
   "source": [
    "# Interval-Based Annotation [TP53: chrm17]"
   ]
  },
  {
   "cell_type": "markdown",
   "id": "fdf1a4e7",
   "metadata": {
    "id": "fdf1a4e7"
   },
   "source": [
    "The aim of interval-based annotation is to look for overlap of a query variant with a region (this region could be a single position) in annotation databases."
   ]
  },
  {
   "cell_type": "markdown",
   "id": "d75acd23",
   "metadata": {
    "id": "d75acd23"
   },
   "source": [
    "<img src=\"materials/images/overlapping-condition.png\"/>"
   ]
  },
  {
   "cell_type": "markdown",
   "id": "4d7cb4ff",
   "metadata": {
    "id": "4d7cb4ff"
   },
   "source": [
    "<div class=\"alert alert-block alert-info\">\n",
    "<b> Green.start_position[X]<=Blue.end_position[B] AND Blue.start_position[A]<=Green.end_position[Y]</b>\n",
    "\n",
    "Source: https://stackoverflow.com/questions/20981783/how-to-sum-overlapping-interval-parts-in-sql.\n",
    "</div>"
   ]
  },
  {
   "cell_type": "markdown",
   "id": "772209bf",
   "metadata": {
    "id": "772209bf"
   },
   "source": [
    "The code below uses the `JOIN` function to compare two datasets using overlapping condition."
   ]
  },
  {
   "cell_type": "markdown",
   "id": "22aee871",
   "metadata": {
    "id": "22aee871"
   },
   "source": [
    "1. Rather than comparing whether the two datasets are exactly the same, this method focuses on overlapping regions. In the following example, we are running chromosome 17 from the ***1000 Genomes Project*** against gene TP53 from chromosome 17 in the ***UCSC RefGene Annotation*** dataset.\n",
    "2. The `ON` condition is trying to see if there is any overlapping between the two datasets in the selected region. See the graph below:\n"
   ]
  },
  {
   "cell_type": "code",
   "execution_count": 8,
   "id": "be68c6ae",
   "metadata": {
    "id": "be68c6ae"
   },
   "outputs": [
    {
     "name": "stderr",
     "output_type": "stream",
     "text": [
      "/tmp/ipykernel_101/1411853846.py:1: UserWarning: pandas only supports SQLAlchemy connectable (engine/connection) or database string URI or sqlite3 DBAPI2 connection. Other DBAPI2 objects are not tested. Please consider using SQLAlchemy.\n",
      "  pd.read_sql(\"SELECT A.chrm, A.start_position, A.end_position, A.reference_bases, A.alternate_bases,B.name, B.name2, A.info \"\n"
     ]
    },
    {
     "data": {
      "text/html": [
       "<div>\n",
       "<style scoped>\n",
       "    .dataframe tbody tr th:only-of-type {\n",
       "        vertical-align: middle;\n",
       "    }\n",
       "\n",
       "    .dataframe tbody tr th {\n",
       "        vertical-align: top;\n",
       "    }\n",
       "\n",
       "    .dataframe thead th {\n",
       "        text-align: right;\n",
       "    }\n",
       "</style>\n",
       "<table border=\"1\" class=\"dataframe\">\n",
       "  <thead>\n",
       "    <tr style=\"text-align: right;\">\n",
       "      <th></th>\n",
       "      <th>chrm</th>\n",
       "      <th>start_position</th>\n",
       "      <th>end_position</th>\n",
       "      <th>reference_bases</th>\n",
       "      <th>alternate_bases</th>\n",
       "      <th>name</th>\n",
       "      <th>name2</th>\n",
       "      <th>info</th>\n",
       "    </tr>\n",
       "  </thead>\n",
       "  <tbody>\n",
       "    <tr>\n",
       "      <th>0</th>\n",
       "      <td>17</td>\n",
       "      <td>7571751</td>\n",
       "      <td>7571752</td>\n",
       "      <td>T</td>\n",
       "      <td>G</td>\n",
       "      <td>NM_001276697</td>\n",
       "      <td>TP53</td>\n",
       "      <td>AC=13;AF=0.00259585;AN=5008;NS=2504;DP=19133;EAS_AF=0;AMR_AF=0;AFR_AF=0;EUR_AF=0.0129;SAS_AF=0;AA=T|||;VT=SNP</td>\n",
       "    </tr>\n",
       "    <tr>\n",
       "      <th>1</th>\n",
       "      <td>17</td>\n",
       "      <td>7571751</td>\n",
       "      <td>7571752</td>\n",
       "      <td>T</td>\n",
       "      <td>G</td>\n",
       "      <td>NM_001126115</td>\n",
       "      <td>TP53</td>\n",
       "      <td>AC=13;AF=0.00259585;AN=5008;NS=2504;DP=19133;EAS_AF=0;AMR_AF=0;AFR_AF=0;EUR_AF=0.0129;SAS_AF=0;AA=T|||;VT=SNP</td>\n",
       "    </tr>\n",
       "    <tr>\n",
       "      <th>2</th>\n",
       "      <td>17</td>\n",
       "      <td>7571751</td>\n",
       "      <td>7571752</td>\n",
       "      <td>T</td>\n",
       "      <td>G</td>\n",
       "      <td>NM_001126117</td>\n",
       "      <td>TP53</td>\n",
       "      <td>AC=13;AF=0.00259585;AN=5008;NS=2504;DP=19133;EAS_AF=0;AMR_AF=0;AFR_AF=0;EUR_AF=0.0129;SAS_AF=0;AA=T|||;VT=SNP</td>\n",
       "    </tr>\n",
       "    <tr>\n",
       "      <th>3</th>\n",
       "      <td>17</td>\n",
       "      <td>7571751</td>\n",
       "      <td>7571752</td>\n",
       "      <td>T</td>\n",
       "      <td>G</td>\n",
       "      <td>NM_001276699</td>\n",
       "      <td>TP53</td>\n",
       "      <td>AC=13;AF=0.00259585;AN=5008;NS=2504;DP=19133;EAS_AF=0;AMR_AF=0;AFR_AF=0;EUR_AF=0.0129;SAS_AF=0;AA=T|||;VT=SNP</td>\n",
       "    </tr>\n",
       "    <tr>\n",
       "      <th>4</th>\n",
       "      <td>17</td>\n",
       "      <td>7571751</td>\n",
       "      <td>7571752</td>\n",
       "      <td>T</td>\n",
       "      <td>G</td>\n",
       "      <td>NM_001126116</td>\n",
       "      <td>TP53</td>\n",
       "      <td>AC=13;AF=0.00259585;AN=5008;NS=2504;DP=19133;EAS_AF=0;AMR_AF=0;AFR_AF=0;EUR_AF=0.0129;SAS_AF=0;AA=T|||;VT=SNP</td>\n",
       "    </tr>\n",
       "  </tbody>\n",
       "</table>\n",
       "</div>"
      ],
      "text/plain": [
       "  chrm  start_position  end_position reference_bases alternate_bases  \\\n",
       "0   17         7571751       7571752               T               G   \n",
       "1   17         7571751       7571752               T               G   \n",
       "2   17         7571751       7571752               T               G   \n",
       "3   17         7571751       7571752               T               G   \n",
       "4   17         7571751       7571752               T               G   \n",
       "\n",
       "           name name2  \\\n",
       "0  NM_001276697  TP53   \n",
       "1  NM_001126115  TP53   \n",
       "2  NM_001126117  TP53   \n",
       "3  NM_001276699  TP53   \n",
       "4  NM_001126116  TP53   \n",
       "\n",
       "                                                                                                            info  \n",
       "0  AC=13;AF=0.00259585;AN=5008;NS=2504;DP=19133;EAS_AF=0;AMR_AF=0;AFR_AF=0;EUR_AF=0.0129;SAS_AF=0;AA=T|||;VT=SNP  \n",
       "1  AC=13;AF=0.00259585;AN=5008;NS=2504;DP=19133;EAS_AF=0;AMR_AF=0;AFR_AF=0;EUR_AF=0.0129;SAS_AF=0;AA=T|||;VT=SNP  \n",
       "2  AC=13;AF=0.00259585;AN=5008;NS=2504;DP=19133;EAS_AF=0;AMR_AF=0;AFR_AF=0;EUR_AF=0.0129;SAS_AF=0;AA=T|||;VT=SNP  \n",
       "3  AC=13;AF=0.00259585;AN=5008;NS=2504;DP=19133;EAS_AF=0;AMR_AF=0;AFR_AF=0;EUR_AF=0.0129;SAS_AF=0;AA=T|||;VT=SNP  \n",
       "4  AC=13;AF=0.00259585;AN=5008;NS=2504;DP=19133;EAS_AF=0;AMR_AF=0;AFR_AF=0;EUR_AF=0.0129;SAS_AF=0;AA=T|||;VT=SNP  "
      ]
     },
     "execution_count": 8,
     "metadata": {},
     "output_type": "execute_result"
    }
   ],
   "source": [
    "pd.read_sql(\"SELECT A.chrm, A.start_position, A.end_position, A.reference_bases, A.alternate_bases,B.name, B.name2, A.info \"\n",
    "+ \" FROM (SELECT * FROM \\\"default\\\".g1000vcf_csv_int WHERE chrm='17') as A \"\n",
    "+ \" JOIN \"\n",
    "+ \" (SELECT * FROM \\\"1000_genomes\\\".hg19_ucsc_refgene_int WHERE chrm='17' and name2='TP53') as B \"\n",
    "+ \" ON A.start_position<=B.end_position AND B.start_position<=A.end_position \"\n",
    "+ \" ORDER By  A.start_position\", conn).head()"
   ]
  },
  {
   "cell_type": "markdown",
   "id": "2e871602",
   "metadata": {
    "id": "2e871602"
   },
   "source": [
    "<img src=\"materials/images/conductor.png\"/>"
   ]
  },
  {
   "cell_type": "markdown",
   "id": "2ed7a679",
   "metadata": {
    "id": "2ed7a679"
   },
   "source": [
    "For your information, TP53 gene provides instructions for making a protein called tumor protein p53 (or p53). This protein acts as a tumor suppressor, which means that it regulates cell division by keeping cells from growing and dividing (proliferating) too fast, or in an uncontrolled way. TP53 acts like a conductor in an orchestra."
   ]
  },
  {
   "cell_type": "markdown",
   "id": "feed3754",
   "metadata": {
    "id": "feed3754"
   },
   "source": [
    "The table gives us a view of all the mutations on gene TP53 on chromosome 2. Typically, mutations on TP53 are considered as rare mutations."
   ]
  },
  {
   "cell_type": "markdown",
   "id": "629e1248",
   "metadata": {
    "id": "629e1248"
   },
   "source": [
    "---"
   ]
  },
  {
   "cell_type": "markdown",
   "id": "e39433dd",
   "metadata": {
    "id": "e39433dd"
   },
   "source": [
    "# Contributions & acknowledgement"
   ]
  },
  {
   "cell_type": "markdown",
   "id": "a1b11e03",
   "metadata": {
    "id": "a1b11e03"
   },
   "source": [
    "Thank the following team for working on this module:\n",
    "\n",
    "- **Module Content**: Amir Bahmani\n",
    "- **Engineering**: Amit Dixit\n",
    "- **UX/UI Design & Illustration**: Kexin Cha\n",
    "- **Video Production**: Francesca Goncalves\n",
    "- **Project Management**: Amir Bahmani, Kexin Cha"
   ]
  },
  {
   "cell_type": "markdown",
   "id": "df6e5f8b",
   "metadata": {
    "id": "df6e5f8b"
   },
   "source": [
    "---"
   ]
  },
  {
   "cell_type": "markdown",
   "id": "a6c76386",
   "metadata": {
    "id": "a6c76386"
   },
   "source": [
    "Copyright (c) 2022 Stanford Data Ocean (SDO)\n",
    "\n",
    "All rights reserved."
   ]
  }
 ],
 "metadata": {
  "colab": {
   "provenance": []
  },
  "kernelspec": {
   "display_name": "Python 3 (ipykernel)",
   "language": "python",
   "name": "python3"
  },
  "language_info": {
   "codemirror_mode": {
    "name": "ipython",
    "version": 3
   },
   "file_extension": ".py",
   "mimetype": "text/x-python",
   "name": "python",
   "nbconvert_exporter": "python",
   "pygments_lexer": "ipython3",
   "version": "3.10.13"
  }
 },
 "nbformat": 4,
 "nbformat_minor": 5
}
